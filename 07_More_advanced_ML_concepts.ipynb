{
  "nbformat": 4,
  "nbformat_minor": 0,
  "metadata": {
    "colab": {
      "name": "07 - More advanced ML concepts.ipynb",
      "version": "0.3.2",
      "provenance": [],
      "collapsed_sections": [],
      "include_colab_link": true
    },
    "kernelspec": {
      "name": "python3",
      "display_name": "Python 3"
    }
  },
  "cells": [
    {
      "cell_type": "markdown",
      "metadata": {
        "id": "view-in-github",
        "colab_type": "text"
      },
      "source": [
        "<a href=\"https://colab.research.google.com/github/ckalibsnelson/HackCville---Node-A/blob/master/07_More_advanced_ML_concepts.ipynb\" target=\"_parent\"><img src=\"https://colab.research.google.com/assets/colab-badge.svg\" alt=\"Open In Colab\"/></a>"
      ]
    },
    {
      "metadata": {
        "id": "uj86g9F8m78G",
        "colab_type": "text"
      },
      "cell_type": "markdown",
      "source": [
        "# More Advanced ML topics covered\n",
        "\n",
        "- support vector machines\n",
        "- validation set\n",
        "- cross validation\n",
        "- parameter tuning\n",
        "- linear scaling for features"
      ]
    },
    {
      "metadata": {
        "id": "Z6OS55Ptoepv",
        "colab_type": "code",
        "colab": {}
      },
      "cell_type": "code",
      "source": [
        "# General Imports\n",
        "import numpy as np\n",
        "import pandas as pd\n",
        "import matplotlib.pyplot as plt\n",
        "\n",
        "# For data examples\n",
        "from sklearn import datasets"
      ],
      "execution_count": 0,
      "outputs": []
    },
    {
      "metadata": {
        "id": "Ia3lC-R8i8HP",
        "colab_type": "text"
      },
      "cell_type": "markdown",
      "source": [
        "## Support Vector Machines (SVM)\n",
        "\n",
        "This code is a modified version of the following jupyter notebook: \n",
        "\n",
        "https://github.com/ageron/handson-ml/blob/master/05_support_vector_machines.ipynb\n",
        "\n",
        "This github repository corresponds with a free textbook that is a great resource if you want to keep learning more ML. It dives deeper into implementions and the math behind the models than we're able to in class. Definitely recommend it if you're feeling like you want to learn more!"
      ]
    },
    {
      "metadata": {
        "id": "T0SoLTGji-oX",
        "colab_type": "code",
        "colab": {}
      },
      "cell_type": "code",
      "source": [
        "# Support Vector Classifier (SVC) \n",
        "# An SVC is just a Support Vector Machine (SVM) used for classification\n",
        "from sklearn.svm import SVC"
      ],
      "execution_count": 0,
      "outputs": []
    },
    {
      "metadata": {
        "id": "LOA6_-M6m3za",
        "colab_type": "code",
        "colab": {}
      },
      "cell_type": "code",
      "source": [
        "# Getting Iris data\n",
        "iris = datasets.load_iris()\n",
        "X = iris[\"data\"][:, (2, 3)]  # petal length, petal width\n",
        "y = iris[\"target\"]"
      ],
      "execution_count": 0,
      "outputs": []
    },
    {
      "metadata": {
        "id": "iYNev6DNyocL",
        "colab_type": "text"
      },
      "cell_type": "markdown",
      "source": [
        "### Training  an SVC that Perfectly Separates the Training Data"
      ]
    },
    {
      "metadata": {
        "id": "PzAVYa6sm32R",
        "colab_type": "code",
        "colab": {}
      },
      "cell_type": "code",
      "source": [
        "# Getting only examples corresponding to setosa and versicolor\n",
        "setosa_or_versicolor = (y == 0) | (y == 1)\n",
        "X = X[setosa_or_versicolor]\n",
        "y = y[setosa_or_versicolor]"
      ],
      "execution_count": 0,
      "outputs": []
    },
    {
      "metadata": {
        "id": "yxr5LG7qm330",
        "colab_type": "code",
        "outputId": "0827f577-2243-41a7-9311-9a3e77363f7d",
        "colab": {
          "base_uri": "https://localhost:8080/",
          "height": 90
        }
      },
      "cell_type": "code",
      "source": [
        "# SVM Classifier model\n",
        "svm_clf = SVC(kernel=\"linear\", C=float(\"inf\")) # Large C \n",
        "svm_clf.fit(X, y)"
      ],
      "execution_count": 0,
      "outputs": [
        {
          "output_type": "execute_result",
          "data": {
            "text/plain": [
              "SVC(C=inf, cache_size=200, class_weight=None, coef0=0.0,\n",
              "  decision_function_shape='ovr', degree=3, gamma='auto_deprecated',\n",
              "  kernel='linear', max_iter=-1, probability=False, random_state=None,\n",
              "  shrinking=True, tol=0.001, verbose=False)"
            ]
          },
          "metadata": {
            "tags": []
          },
          "execution_count": 72
        }
      ]
    },
    {
      "metadata": {
        "id": "VUAx4SymoIka",
        "colab_type": "code",
        "outputId": "81abd27e-2326-4ef7-a005-22b921731b20",
        "colab": {
          "base_uri": "https://localhost:8080/",
          "height": 287
        }
      },
      "cell_type": "code",
      "source": [
        "#######################################################################\n",
        "# THIS CODE CAN BE IGNORED\n",
        "# You'll never have to do something like this in practce\n",
        "# This is just to help demonstrate what a SVM results in\n",
        "\n",
        "def plot_svc_decision_boundary(svm_clf, xmin, xmax):\n",
        "    w = svm_clf.coef_[0]\n",
        "    b = svm_clf.intercept_[0]\n",
        "\n",
        "    # At the decision boundary, w0*x0 + w1*x1 + b = 0\n",
        "    # => x1 = -w0/w1 * x0 - b/w1\n",
        "    x0 = np.linspace(xmin, xmax, 200)\n",
        "    decision_boundary = -w[0]/w[1] * x0 - b/w[1]\n",
        "\n",
        "    margin = 1/w[1]\n",
        "    gutter_up = decision_boundary + margin\n",
        "    gutter_down = decision_boundary - margin\n",
        "\n",
        "    svs = svm_clf.support_vectors_\n",
        "    plt.scatter(svs[:, 0], svs[:, 1], s=180, facecolors='#FFAAAA')\n",
        "    plt.plot(x0, decision_boundary, \"k-\", linewidth=2)\n",
        "    plt.plot(x0, gutter_up, \"k--\", linewidth=2)\n",
        "    plt.plot(x0, gutter_down, \"k--\", linewidth=2)\n",
        "    \n",
        "    \n",
        "plt.figure(figsize=(12, 4))\n",
        "plot_svc_decision_boundary(svm_clf, 0, 5.5)\n",
        "plt.plot(X[:, 0][y==1], X[:, 1][y==1], \"bs\", label=\"Iris-Versicolor\")\n",
        "plt.plot(X[:, 0][y==0], X[:, 1][y==0], \"yo\", label=\"Iris-Setosa\")\n",
        "plt.xlabel(\"Petal length\", fontsize=14)\n",
        "plt.ylabel(\"Petal width\", fontsize=14)\n",
        "plt.legend(loc=\"lower right\", fontsize=14)\n",
        "plt.axis([0, 5.5, 0, 2])\n",
        "plt.show()\n",
        "## ABOVE CODE CAN ALL BE IGNORED\n",
        "########################################################################"
      ],
      "execution_count": 0,
      "outputs": [
        {
          "output_type": "display_data",
          "data": {
            "image/png": "[encoded data removed]",
            "text/plain": [
              "<Figure size 864x288 with 1 Axes>"
            ]
          },
          "metadata": {
            "tags": []
          }
        }
      ]
    },
    {
      "metadata": {
        "id": "OrNTYfshy1su",
        "colab_type": "code",
        "colab": {}
      },
      "cell_type": "code",
      "source": [
        "from sklearn.metrics import accuracy_score"
      ],
      "execution_count": 0,
      "outputs": []
    },
    {
      "metadata": {
        "id": "zXj6Mpo1oIuo",
        "colab_type": "code",
        "outputId": "e8b93b4f-2fd7-4523-cb37-e1612673203b",
        "colab": {
          "base_uri": "https://localhost:8080/",
          "height": 35
        }
      },
      "cell_type": "code",
      "source": [
        "accuracy_score(svm_clf.predict(X), y)"
      ],
      "execution_count": 0,
      "outputs": [
        {
          "output_type": "execute_result",
          "data": {
            "text/plain": [
              "1.0"
            ]
          },
          "metadata": {
            "tags": []
          },
          "execution_count": 75
        }
      ]
    },
    {
      "metadata": {
        "id": "m9Og3cZhp-X_",
        "colab_type": "text"
      },
      "cell_type": "markdown",
      "source": [
        "#### Does it makes sense that our accuracy is perfect? \n",
        "It makes sense that the resulting accuracy is 1 since the data is perfectly divided in the above plot. \n",
        "\n",
        "This isn't really a good example of a real ML model since there was no training set and testing set. The above example is really just to demonstrate how an SVM works."
      ]
    },
    {
      "metadata": {
        "id": "T7bP3L0cy5UO",
        "colab_type": "text"
      },
      "cell_type": "markdown",
      "source": [
        "### Training an SVC that Almost Perfectly Separates the Training Data"
      ]
    },
    {
      "metadata": {
        "id": "H-1U6HOrqq45",
        "colab_type": "code",
        "colab": {}
      },
      "cell_type": "code",
      "source": [
        "# Will be better understood later in the notebook\n",
        "# But in order to use the Iris data to train an SVM classifier it must first be\n",
        "# scaled\n",
        "def linear_scale(series):\n",
        "  \"\"\"Scales a numeric column to between -1 and 1\"\"\"\n",
        "  min_val = series.min()\n",
        "  max_val = series.max()\n",
        "  scale = (max_val - min_val) / 2.0\n",
        "  return series.apply(lambda x:((x - min_val) / scale) - 1.0)"
      ],
      "execution_count": 0,
      "outputs": []
    },
    {
      "metadata": {
        "id": "hUeYXCu-qq3a",
        "colab_type": "code",
        "colab": {}
      },
      "cell_type": "code",
      "source": [
        "# Traing an SVM to predict Iris-Virginica vs. Rest\n",
        "X = iris[\"data\"][:, (2, 3)]  # petal length, petal width\n",
        "X_df = pd.DataFrame(X)\n",
        "y = (iris[\"target\"] == 2).astype(np.float64)  # Iris-Virginica\n",
        "\n",
        "X_df = X_df.apply(linear_scale)"
      ],
      "execution_count": 0,
      "outputs": []
    },
    {
      "metadata": {
        "id": "EIMGcek7tWk3",
        "colab_type": "code",
        "outputId": "29c2a279-1dc9-4dba-faa0-5ff468373fe2",
        "colab": {
          "base_uri": "https://localhost:8080/",
          "height": 90
        }
      },
      "cell_type": "code",
      "source": [
        "# SVM Classifier \n",
        "svm_clf_1 = SVC(kernel=\"linear\", C=1)\n",
        "svm_clf_1.fit(X, y)\n",
        "\n",
        "svm_clf_100 = SVC(kernel=\"linear\", C=100)\n",
        "svm_clf_100.fit(X, y)"
      ],
      "execution_count": 0,
      "outputs": [
        {
          "output_type": "execute_result",
          "data": {
            "text/plain": [
              "SVC(C=100, cache_size=200, class_weight=None, coef0=0.0,\n",
              "  decision_function_shape='ovr', degree=3, gamma='auto_deprecated',\n",
              "  kernel='linear', max_iter=-1, probability=False, random_state=None,\n",
              "  shrinking=True, tol=0.001, verbose=False)"
            ]
          },
          "metadata": {
            "tags": []
          },
          "execution_count": 78
        }
      ]
    },
    {
      "metadata": {
        "id": "iEpPxlzhvUnP",
        "colab_type": "code",
        "outputId": "3ad309b3-550b-497c-e36b-9b2eb6b0bcc8",
        "colab": {
          "base_uri": "https://localhost:8080/",
          "height": 259
        }
      },
      "cell_type": "code",
      "source": [
        "######################################################################\n",
        "# THIS CODE CAN BE IGNORED\n",
        "# You'll never have to do something like this in practce\n",
        "# This is just to help demonstrate what a SVM results in\n",
        "plt.figure(figsize=(12,3.2))\n",
        "plt.subplot(121)\n",
        "plt.plot(X[:, 0][y==1], X[:, 1][y==1], \"g^\", label=\"Iris-Virginica\")\n",
        "plt.plot(X[:, 0][y==0], X[:, 1][y==0], \"bs\", label=\"Iris-Versicolor\")\n",
        "plot_svc_decision_boundary(svm_clf_1, 4, 6)\n",
        "plt.xlabel(\"Petal length\", fontsize=14)\n",
        "plt.ylabel(\"Petal width\", fontsize=14)\n",
        "plt.title(\"$C = {}$\".format(svm_clf_1.C), fontsize=16)\n",
        "plt.axis([4, 6, 0.8, 2.8])\n",
        "\n",
        "plt.subplot(122)\n",
        "plt.plot(X[:, 0][y==1], X[:, 1][y==1], \"g^\", label=\"Iris-Virginica\")\n",
        "plt.plot(X[:, 0][y==0], X[:, 1][y==0], \"bs\", label=\"Iris-Versicolor\")\n",
        "plot_svc_decision_boundary(svm_clf_100, 4, 6)\n",
        "plt.xlabel(\"Petal length\", fontsize=14)\n",
        "plt.legend(loc=(1, 0), fontsize=14)\n",
        "plt.title(\"$C = {}$\".format(svm_clf_100.C), fontsize=16)\n",
        "plt.axis([4, 6, 0.8, 2.8])\n",
        "plt.show()\n",
        "## ABOVE CODE CAN ALL BE IGNORED\n",
        "#######################################################################"
      ],
      "execution_count": 0,
      "outputs": [
        {
          "output_type": "display_data",
          "data": {
            "image/png": "[encoded data removed]",
            "text/plain": [
              "<Figure size 864x230.4 with 2 Axes>"
            ]
          },
          "metadata": {
            "tags": []
          }
        }
      ]
    },
    {
      "metadata": {
        "id": "w1BhkK7Duuq8",
        "colab_type": "code",
        "outputId": "2dce78ae-45a2-4871-958a-c938e786166a",
        "colab": {
          "base_uri": "https://localhost:8080/",
          "height": 53
        }
      },
      "cell_type": "code",
      "source": [
        "print('When C is 1: accuracy=' + str(accuracy_score(svm_clf_1.predict(X), y)))\n",
        "print('When C is 100: accuracy=' + str(accuracy_score(svm_clf_100.predict(X), y)))"
      ],
      "execution_count": 0,
      "outputs": [
        {
          "output_type": "stream",
          "text": [
            "When C is 1: accuracy=0.9666666666666667\n",
            "When C is 100: accuracy=0.96\n"
          ],
          "name": "stdout"
        }
      ]
    },
    {
      "metadata": {
        "id": "5X9qkhIXzaUy",
        "colab_type": "text"
      },
      "cell_type": "markdown",
      "source": [
        "#### Do the different accuracies make sense? \n",
        "\n",
        "It does make sense that the accuracies aren't the same because we changed the C value. We wanted less errors on the training data in the SVM with C = 100 and thus it had a higher accuracy score. In practice however, doing this may have resulted in overfitting our training data and could be the wrong decision. "
      ]
    },
    {
      "metadata": {
        "id": "-8_D87VEy_fA",
        "colab_type": "text"
      },
      "cell_type": "markdown",
      "source": [
        "### Training an SVC with Different Kernels\n",
        "\n",
        "For now, all you need to understand about a kernel is that by changing it from 'linear' we'll be making a separating line that is curved in some way. The 'poly' kernel will use a polynomial line of the degree you set. The 'rbf' kernel uses a function that you don't have to worry about for the moment. "
      ]
    },
    {
      "metadata": {
        "id": "nhLot6OQzC9d",
        "colab_type": "code",
        "colab": {}
      },
      "cell_type": "code",
      "source": [
        "# Creating a non-linear dataset to use\n",
        "from sklearn.datasets import make_moons\n",
        "X, y = make_moons(n_samples=100, noise=0.15, random_state=42)"
      ],
      "execution_count": 0,
      "outputs": []
    },
    {
      "metadata": {
        "id": "MSJuHwZdz_b2",
        "colab_type": "code",
        "colab": {}
      },
      "cell_type": "code",
      "source": [
        "##########################################################################\n",
        "# THIS CODE CAN BE IGNORED\n",
        "# It isn't neccesary to understand these two methods to understand the SVM\n",
        "# They just make our demonstrations easier to make\n",
        "def plot_predictions(clf, axes):\n",
        "    x0s = np.linspace(axes[0], axes[1], 100)\n",
        "    x1s = np.linspace(axes[2], axes[3], 100)\n",
        "    x0, x1 = np.meshgrid(x0s, x1s)\n",
        "    X = np.c_[x0.ravel(), x1.ravel()]\n",
        "    y_pred = clf.predict(X).reshape(x0.shape)\n",
        "    y_decision = clf.decision_function(X).reshape(x0.shape)\n",
        "    plt.contourf(x0, x1, y_pred, cmap=plt.cm.brg, alpha=0.2)\n",
        "    plt.contourf(x0, x1, y_decision, cmap=plt.cm.brg, alpha=0.1)\n",
        "\n",
        "def plot_dataset(X, y, axes):\n",
        "    plt.plot(X[:, 0][y==0], X[:, 1][y==0], \"bs\")\n",
        "    plt.plot(X[:, 0][y==1], X[:, 1][y==1], \"g^\")\n",
        "    plt.axis(axes)\n",
        "    plt.grid(True, which='both')\n",
        "    plt.xlabel(r\"$x_1$\", fontsize=20)\n",
        "    plt.ylabel(r\"$x_2$\", fontsize=20, rotation=0)\n",
        "\n",
        "## Don't need to worry about the above stuff\n",
        "###########################################################################"
      ],
      "execution_count": 0,
      "outputs": []
    },
    {
      "metadata": {
        "id": "UpL7qZkl0Bvc",
        "colab_type": "code",
        "outputId": "970bec8c-a799-4c2e-ac73-26609a2cd8c2",
        "colab": {
          "base_uri": "https://localhost:8080/",
          "height": 374
        }
      },
      "cell_type": "code",
      "source": [
        "# Taking a look at the data    \n",
        "plot_dataset(X, y, [-1.5, 2.5, -1, 1.5])\n",
        "plt.show()"
      ],
      "execution_count": 0,
      "outputs": [
        {
          "output_type": "display_data",
          "data": {
            "image/png": "[encoded data removed]",
            "text/plain": [
              "<Figure size 576x396 with 1 Axes>"
            ]
          },
          "metadata": {
            "tags": []
          }
        }
      ]
    },
    {
      "metadata": {
        "id": "TtNCW2IVxFLa",
        "colab_type": "text"
      },
      "cell_type": "markdown",
      "source": [
        "As you can see a linear separator wouldn't really do the trick here. We're gonna have to try something new to get a good classifier. "
      ]
    },
    {
      "metadata": {
        "id": "wrfw1G5Bzlta",
        "colab_type": "code",
        "outputId": "09a05e97-4367-4e3e-e5ab-769bdfff9405",
        "colab": {
          "base_uri": "https://localhost:8080/",
          "height": 90
        }
      },
      "cell_type": "code",
      "source": [
        "# Training a polynomial classifier of degree 3\n",
        "poly3_svm_clf = SVC(kernel=\"poly\", gamma='auto', degree=3, coef0=1) # coef0 and gamma are other hyperparameters of a polynomial SVM.\n",
        "poly3_svm_clf.fit(X ,y)"
      ],
      "execution_count": 0,
      "outputs": [
        {
          "output_type": "execute_result",
          "data": {
            "text/plain": [
              "SVC(C=1.0, cache_size=200, class_weight=None, coef0=1,\n",
              "  decision_function_shape='ovr', degree=3, gamma='auto', kernel='poly',\n",
              "  max_iter=-1, probability=False, random_state=None, shrinking=True,\n",
              "  tol=0.001, verbose=False)"
            ]
          },
          "metadata": {
            "tags": []
          },
          "execution_count": 116
        }
      ]
    },
    {
      "metadata": {
        "id": "84SUP9CzzliG",
        "colab_type": "code",
        "outputId": "ca623c8b-ca9c-4110-ffe9-30cedead027c",
        "colab": {
          "base_uri": "https://localhost:8080/",
          "height": 392
        }
      },
      "cell_type": "code",
      "source": [
        "plot_predictions(poly3_svm_clf, [-1.5, 2.5, -1, 1.5])\n",
        "plot_dataset(X, y, [-1.5, 2.5, -1, 1.5])\n",
        "plt.title(r\"$d=3, r=1, C=5$\", fontsize=18)\n",
        "plt.show()"
      ],
      "execution_count": 0,
      "outputs": [
        {
          "output_type": "display_data",
          "data": {
            "image/png": "[encoded data removed]",
            "text/plain": [
              "<Figure size 576x396 with 1 Axes>"
            ]
          },
          "metadata": {
            "tags": []
          }
        }
      ]
    },
    {
      "metadata": {
        "id": "edxHtrp0zlfG",
        "colab_type": "code",
        "outputId": "b8004e73-b6ad-4739-b9a6-85205fe2a7d4",
        "colab": {
          "base_uri": "https://localhost:8080/",
          "height": 90
        }
      },
      "cell_type": "code",
      "source": [
        "# Training an rbf classifier\n",
        "rbf_svm_clf = SVC(kernel=\"rbf\", gamma=5, C=0.001) # coef0 is another hyperparameter of the SVM.\n",
        "rbf_svm_clf.fit(X ,y)"
      ],
      "execution_count": 0,
      "outputs": [
        {
          "output_type": "execute_result",
          "data": {
            "text/plain": [
              "SVC(C=0.001, cache_size=200, class_weight=None, coef0=0.0,\n",
              "  decision_function_shape='ovr', degree=3, gamma=5, kernel='rbf',\n",
              "  max_iter=-1, probability=False, random_state=None, shrinking=True,\n",
              "  tol=0.001, verbose=False)"
            ]
          },
          "metadata": {
            "tags": []
          },
          "execution_count": 118
        }
      ]
    },
    {
      "metadata": {
        "id": "x3QBc4Ymzlb8",
        "colab_type": "code",
        "outputId": "e888a43e-f3e7-4e6d-a60d-21a58b4868ea",
        "colab": {
          "base_uri": "https://localhost:8080/",
          "height": 390
        }
      },
      "cell_type": "code",
      "source": [
        "plot_predictions(rbf_svm_clf, [-1.5, 2.5, -1, 1.5])\n",
        "plot_dataset(X, y, [-1.5, 2.5, -1, 1.5])\n",
        "plt.title(r\"$\\gamma = 5, C = 0.001$\", fontsize=16)\n",
        "plt.show()"
      ],
      "execution_count": 0,
      "outputs": [
        {
          "output_type": "display_data",
          "data": {
            "image/png": "[encoded data removed]",
            "text/plain": [
              "<Figure size 576x396 with 1 Axes>"
            ]
          },
          "metadata": {
            "tags": []
          }
        }
      ]
    },
    {
      "metadata": {
        "id": "GUTrYjxincAc",
        "colab_type": "text"
      },
      "cell_type": "markdown",
      "source": [
        "## Precision, Recall and F-1 Scores\n",
        "![alt text](https://upload.wikimedia.org/wikipedia/commons/thumb/2/26/Precisionrecall.svg/525px-Precisionrecall.svg.png)"
      ]
    },
    {
      "metadata": {
        "id": "cXLHHK3tm3wo",
        "colab_type": "code",
        "colab": {}
      },
      "cell_type": "code",
      "source": [
        "# Getting Iris data\n",
        "iris = datasets.load_iris()\n",
        "X = iris[\"data\"][:, (2, 3)]  # petal length, petal width\n",
        "y = iris[\"target\"]"
      ],
      "execution_count": 0,
      "outputs": []
    },
    {
      "metadata": {
        "id": "0noXk0ou5xAz",
        "colab_type": "code",
        "colab": {}
      },
      "cell_type": "code",
      "source": [
        "# Importing LogisticRegression and split function\n",
        "from sklearn.linear_model import LogisticRegression\n",
        "from sklearn.model_selection import train_test_split"
      ],
      "execution_count": 0,
      "outputs": []
    },
    {
      "metadata": {
        "id": "Lq8nC6Ob5w9l",
        "colab_type": "code",
        "colab": {}
      },
      "cell_type": "code",
      "source": [
        "# Splitting the data\n",
        "X_train, X_test, y_train, y_test = train_test_split(X, y, test_size=0.2, random_state=42) # how to split the data using an sklearn function"
      ],
      "execution_count": 0,
      "outputs": []
    },
    {
      "metadata": {
        "id": "y4zSRTAI5w4Z",
        "colab_type": "code",
        "outputId": "c89a3904-66c3-46d0-8df1-a67f30d809d7",
        "colab": {
          "base_uri": "https://localhost:8080/",
          "height": 183
        }
      },
      "cell_type": "code",
      "source": [
        "# Training the Logistic Regression model\n",
        "log = LogisticRegression() \n",
        "log.fit(X_train, y_train)"
      ],
      "execution_count": 0,
      "outputs": [
        {
          "output_type": "stream",
          "text": [
            "/usr/local/lib/python3.6/dist-packages/sklearn/linear_model/logistic.py:433: FutureWarning: Default solver will be changed to 'lbfgs' in 0.22. Specify a solver to silence this warning.\n",
            "  FutureWarning)\n",
            "/usr/local/lib/python3.6/dist-packages/sklearn/linear_model/logistic.py:460: FutureWarning: Default multi_class will be changed to 'auto' in 0.22. Specify the multi_class option to silence this warning.\n",
            "  \"this warning.\", FutureWarning)\n"
          ],
          "name": "stderr"
        },
        {
          "output_type": "execute_result",
          "data": {
            "text/plain": [
              "LogisticRegression(C=1.0, class_weight=None, dual=False, fit_intercept=True,\n",
              "          intercept_scaling=1, max_iter=100, multi_class='warn',\n",
              "          n_jobs=None, penalty='l2', random_state=None, solver='warn',\n",
              "          tol=0.0001, verbose=0, warm_start=False)"
            ]
          },
          "metadata": {
            "tags": []
          },
          "execution_count": 133
        }
      ]
    },
    {
      "metadata": {
        "id": "_Rh3gp358gZR",
        "colab_type": "code",
        "colab": {}
      },
      "cell_type": "code",
      "source": [
        "# Makingn predictions on the train set\n",
        "y_pred = log.predict(X_train)"
      ],
      "execution_count": 0,
      "outputs": []
    },
    {
      "metadata": {
        "id": "4JUl0FGW8gT2",
        "colab_type": "code",
        "colab": {}
      },
      "cell_type": "code",
      "source": [
        "# Importing the different metrics we'll use\n",
        "from sklearn.metrics import accuracy_score, precision_score, recall_score, f1_score"
      ],
      "execution_count": 0,
      "outputs": []
    },
    {
      "metadata": {
        "id": "47-LJG6x-t1C",
        "colab_type": "code",
        "outputId": "876074d8-2e20-4bc1-c254-9e9fe57a794d",
        "colab": {
          "base_uri": "https://localhost:8080/",
          "height": 35
        }
      },
      "cell_type": "code",
      "source": [
        "# Just Accuracy\n",
        "print(\"Accuracy: \" + str(accuracy_score(y_pred, y_train)))"
      ],
      "execution_count": 0,
      "outputs": [
        {
          "output_type": "stream",
          "text": [
            "Accuracy: 0.8583333333333333\n"
          ],
          "name": "stdout"
        }
      ]
    },
    {
      "metadata": {
        "id": "aXZEjwkm8um9",
        "colab_type": "code",
        "outputId": "6d6a3f8d-1699-4c65-beda-f58b3eca0ece",
        "colab": {
          "base_uri": "https://localhost:8080/",
          "height": 72
        }
      },
      "cell_type": "code",
      "source": [
        "# Precision, recall, and F-1 scores for each class \n",
        "print(\"Precision: \" + str(precision_score(y_pred, y_train, average=None)))\n",
        "print(\"Recall: \" + str(recall_score(y_pred, y_train, average=None)))\n",
        "print(\"F-1 Score: \" + str(f1_score(y_pred, y_train, average=None)))"
      ],
      "execution_count": 0,
      "outputs": [
        {
          "output_type": "stream",
          "text": [
            "Precision: [1.         0.68292683 0.8974359 ]\n",
            "Recall: [1.         0.875      0.72916667]\n",
            "F-1 Score: [1.         0.76712329 0.8045977 ]\n"
          ],
          "name": "stdout"
        }
      ]
    },
    {
      "metadata": {
        "id": "WaP1P4c0-yIz",
        "colab_type": "code",
        "outputId": "27a0d640-99c3-4447-a6e2-86f6027a4d37",
        "colab": {
          "base_uri": "https://localhost:8080/",
          "height": 72
        }
      },
      "cell_type": "code",
      "source": [
        "# Precision, recall and F-1 scores on the whole\n",
        "# Before it was done by class but by specifying average = 'micro' we are telling\n",
        "# the function to do this across all examples\n",
        "print(\"Precision: \" + str(precision_score(y_pred, y_train, average='micro')))\n",
        "print(\"Recall: \" + str(recall_score(y_pred, y_train, average='micro')))\n",
        "print(\"F-1 Score: \" + str(f1_score(y_pred, y_train, average='micro')))"
      ],
      "execution_count": 0,
      "outputs": [
        {
          "output_type": "stream",
          "text": [
            "Precision: 0.9937369519832986\n",
            "Recall: 0.9937369519832986\n",
            "F-1 Score: 0.9937369519832986\n"
          ],
          "name": "stdout"
        }
      ]
    },
    {
      "metadata": {
        "id": "RuMqP0b4nHbL",
        "colab_type": "text"
      },
      "cell_type": "markdown",
      "source": [
        "## Validation and Cross Validation\n",
        "\n",
        "![alt text](https://developers.google.com/machine-learning/crash-course/images/PartitionThreeSets.svg)"
      ]
    },
    {
      "metadata": {
        "id": "dx7-Wi-6m5Dv",
        "colab_type": "code",
        "colab": {}
      },
      "cell_type": "code",
      "source": [
        "# CODE SNIPPET: create 60% training set, 20% validation set, and 20% test set\n",
        "\n",
        "from sklearn.model_selection import train_test_split\n",
        "\n",
        "x_train, x_test_val, y_train, y_test_val = train_test_split(X_data, Y_data, test_size=0.4) # take off 40% for testing + validation\n",
        "x_test, x_validation, y_test, y_validation = train_test_split(x_test_val, y_test_val, test_size=0.5) # split the test + validation data evenly\n",
        "\n",
        "# now don't touch x_test and y_test till the very end!"
      ],
      "execution_count": 0,
      "outputs": []
    },
    {
      "metadata": {
        "id": "QPlTA_YKndIL",
        "colab_type": "text"
      },
      "cell_type": "markdown",
      "source": [
        "![alt text](https://scikit-learn.org/stable/_images/grid_search_cross_validation.png)"
      ]
    },
    {
      "metadata": {
        "id": "63YIeGpwnUfL",
        "colab_type": "code",
        "colab": {}
      },
      "cell_type": "code",
      "source": [
        "# CODE SNIPPET: perform cross validation on your model\n",
        "\n",
        "# cross-validation will be sufficient to show that your trained ML model can be generalized to testing data, without a validation set\n",
        "# you may still have a training, validation, and test set with cross-validation, but it might be overkill\n",
        "\n",
        "from sklearn.model_selection import cross_val_score\n",
        "\n",
        "cross_val_score(classifier, X_train, Y_train, cv=5) # adjust how many cv (cross-validation folds) you want"
      ],
      "execution_count": 0,
      "outputs": []
    },
    {
      "metadata": {
        "id": "dP7y4avAqfZ4",
        "colab_type": "text"
      },
      "cell_type": "markdown",
      "source": [
        "## Parameter Tuning\n",
        "\n",
        "[lots of different ways to choose your model's parameters](https://scikit-learn.org/stable/modules/grid_search.html#alternatives-to-brute-force-parameter-search)"
      ]
    },
    {
      "metadata": {
        "id": "Np6tyKkuqg3E",
        "colab_type": "code",
        "colab": {}
      },
      "cell_type": "code",
      "source": [
        "# Import the Decision Tree and the datasets we'll use\n",
        "from sklearn.tree import DecisionTreeClassifier\n",
        "from sklearn import datasets\n",
        "\n",
        "# Import train_test_split\n",
        "from sklearn.model_selection import train_test_split"
      ],
      "execution_count": 0,
      "outputs": []
    },
    {
      "metadata": {
        "id": "IJgvQPe8GWiV",
        "colab_type": "code",
        "colab": {}
      },
      "cell_type": "code",
      "source": [
        "# Getting dataset to use\n",
        "# This is data provided by sklearn for identifying hand-drawn digits\n",
        "digits = datasets.load_digits()\n",
        "X = digits.data\n",
        "y = digits.target"
      ],
      "execution_count": 0,
      "outputs": []
    },
    {
      "metadata": {
        "id": "BQAV2j8pITAD",
        "colab_type": "code",
        "colab": {}
      },
      "cell_type": "code",
      "source": [
        "# Splitting the data\n",
        "X_train, X_test, y_train, y_test = train_test_split(X, y, test_size=0.2, random_state=42) # how to split the data using an sklearn function"
      ],
      "execution_count": 0,
      "outputs": []
    },
    {
      "metadata": {
        "id": "7pzGVShOGsfm",
        "colab_type": "code",
        "colab": {}
      },
      "cell_type": "code",
      "source": [
        "# Importing GridSearch method\n",
        "from sklearn.model_selection import GridSearchCV"
      ],
      "execution_count": 0,
      "outputs": []
    },
    {
      "metadata": {
        "id": "mMXWNsSZGXLO",
        "colab_type": "code",
        "colab": {}
      },
      "cell_type": "code",
      "source": [
        "# Making dict of all the hyperparameters we want to try\n",
        "param_grid={'min_samples_split' : range(10,500,20),'max_depth': range(1,20,2)}\n",
        "#len(param_grid['min_samples_split']) * len(param_grid['max_depth']) # This represents the total number of ways we can combine these two parameters"
      ],
      "execution_count": 0,
      "outputs": []
    },
    {
      "metadata": {
        "id": "vJhRuY_2VvNp",
        "colab_type": "text"
      },
      "cell_type": "markdown",
      "source": [
        "The 'min_samples_split' is the minimum number of values in an internal node that are required for a split to occur. \n",
        "\n",
        "'max_depth' is the maximum number nodes that the tree can go down before stopping splitting. "
      ]
    },
    {
      "metadata": {
        "id": "KGzgaFGDGXII",
        "colab_type": "code",
        "outputId": "6c98be9f-03ea-41c9-e957-5a20ff963c4b",
        "colab": {
          "base_uri": "https://localhost:8080/",
          "height": 274
        }
      },
      "cell_type": "code",
      "source": [
        "# Performing cross validation on every combination in that grid\n",
        "# and selecting the parameters that give us the best F-1 score\n",
        "# This is going to take a little bit (minute or two)\n",
        "grid_search = GridSearchCV(DecisionTreeClassifier(), param_grid, cv=5, scoring='accuracy', return_train_score=True)\n",
        "grid_search.fit(X_train, y_train)"
      ],
      "execution_count": 0,
      "outputs": [
        {
          "output_type": "stream",
          "text": [
            "/usr/local/lib/python3.6/dist-packages/sklearn/model_selection/_search.py:841: DeprecationWarning: The default of the `iid` parameter will change from True to False in version 0.22 and will be removed in 0.24. This will change numeric results when test-set sizes are unequal.\n",
            "  DeprecationWarning)\n"
          ],
          "name": "stderr"
        },
        {
          "output_type": "execute_result",
          "data": {
            "text/plain": [
              "GridSearchCV(cv=5, error_score='raise-deprecating',\n",
              "       estimator=DecisionTreeClassifier(class_weight=None, criterion='gini', max_depth=None,\n",
              "            max_features=None, max_leaf_nodes=None,\n",
              "            min_impurity_decrease=0.0, min_impurity_split=None,\n",
              "            min_samples_leaf=1, min_samples_split=2,\n",
              "            min_weight_fraction_leaf=0.0, presort=False, random_state=None,\n",
              "            splitter='best'),\n",
              "       fit_params=None, iid='warn', n_jobs=None,\n",
              "       param_grid={'min_samples_split': range(10, 500, 20), 'max_depth': range(1, 20, 2)},\n",
              "       pre_dispatch='2*n_jobs', refit=True, return_train_score=True,\n",
              "       scoring='accuracy', verbose=0)"
            ]
          },
          "metadata": {
            "tags": []
          },
          "execution_count": 103
        }
      ]
    },
    {
      "metadata": {
        "id": "w_JSoYFsIC3g",
        "colab_type": "code",
        "outputId": "fe4f7b17-d113-4f15-87f8-296a82fab6ae",
        "colab": {
          "base_uri": "https://localhost:8080/",
          "height": 35
        }
      },
      "cell_type": "code",
      "source": [
        "grid_search.best_params_"
      ],
      "execution_count": 0,
      "outputs": [
        {
          "output_type": "execute_result",
          "data": {
            "text/plain": [
              "{'max_depth': 11, 'min_samples_split': 10}"
            ]
          },
          "metadata": {
            "tags": []
          },
          "execution_count": 31
        }
      ]
    },
    {
      "metadata": {
        "id": "EgmBXlhVLHrM",
        "colab_type": "text"
      },
      "cell_type": "markdown",
      "source": [
        "### What's going on in that GridSearchCV function? \n",
        "The GridSearchCV method cross validates each possible pairing of the parameters you pass. It then trains a model and validates it on each by performing cross validation with 5 folds (since cv=5).  It finds the average accuracy score for each of these parameter pairings and then returns the pairing that results in the best accuracy score. Then, we can get those parameters and train our final model using them!\n",
        "\n",
        "**Bonus:** If you've looked through the other scoring metrics above you can try the following and see what you get as well:\n",
        "\n",
        "- 'f1_micro' \n",
        "- 'precision_micro'\n",
        "- 'recall_micro'"
      ]
    },
    {
      "metadata": {
        "id": "e8kxuu4bgis7",
        "colab_type": "text"
      },
      "cell_type": "markdown",
      "source": [
        "## One-Hot Encoding\n",
        "\n",
        "Suppose we created a feature that can take any of the values `0`, `1` or `2`, and that we have a few training points:\n",
        "\n",
        "| # | feature_value |\n",
        "|---|---------------|\n",
        "| 0 |             2 |\n",
        "| 1 |             0 |\n",
        "| 2 |             1 |\n",
        "\n",
        "For each possible categorical value, we make a new **binary** feature of **real values** that can take one of just two possible values: 1.0 if the example has that value, and 0.0 if not. In the example above, the categorical feature would be converted into three features, and the training points now look like:\n",
        "\n",
        "| # | feature_value_0 | feature_value_1 | feature_value_2 |\n",
        "|---|-----------------|-----------------|-----------------|\n",
        "| 0 |             0.0 |             0.0 |             1.0 |\n",
        "| 1 |             1.0 |             0.0 |             0.0 |\n",
        "| 2 |             0.0 |             1.0 |             0.0 |"
      ]
    },
    {
      "metadata": {
        "id": "ztlMhQfPgiZR",
        "colab_type": "code",
        "colab": {}
      },
      "cell_type": "code",
      "source": [
        "import pandas as pd\n",
        "\n",
        "new_df = pd.get_dummies(df) # all columns with type \"category\" or \"object\" will be converted\n",
        "\n",
        "new_df = pd.get_dummies(df, columns=['col1', 'col2']) # only the specified columns will be converted"
      ],
      "execution_count": 0,
      "outputs": []
    },
    {
      "metadata": {
        "id": "_pDzk88XMnt9",
        "colab_type": "text"
      },
      "cell_type": "markdown",
      "source": [
        "## Feature Transforming\n",
        "\n",
        "If some columns contain data that has a large range, then some models may not converge on an appropriate solution for the problem. One way to solve this is to ensure all the columns in your dataframe are within a range of [-1, 1] using linear scaling"
      ]
    },
    {
      "metadata": {
        "id": "ZGv-k7SrPJKu",
        "colab_type": "code",
        "colab": {}
      },
      "cell_type": "code",
      "source": [
        "def linear_scale(series):\n",
        "  \"\"\"Scales a numeric column to between -1 and 1\"\"\"\n",
        "  min_val = series.min()\n",
        "  max_val = series.max()\n",
        "  scale = (max_val - min_val) / 2.0\n",
        "  return series.apply(lambda x:((x - min_val) / scale) - 1.0)\n",
        "\n",
        "def log_normalize(series):\n",
        "  \"\"\"Scales a numeric column to between 0 and 1\"\"\"\n",
        "  return series.apply(lambda x:math.log(x+1.0))\n",
        "\n",
        "def clip(series, clip_to_min, clip_to_max):\n",
        "  \"\"\"sets a threshold for the minimum and the maximum values\"\"\"\n",
        "  return series.apply(lambda x:(\n",
        "    min(max(x, clip_to_min), clip_to_max)))\n",
        "\n",
        "def z_score_normalize(series):\n",
        "  \"\"\"Normalizes by the z-score of a series\"\"\"\n",
        "  mean = series.mean()\n",
        "  std_dv = series.std()\n",
        "  return series.apply(lambda x:(x - mean) / std_dv)\n",
        "\n",
        "def binary_threshold(series, threshold):\n",
        "  \"\"\"Turn a column into a column of 1s or 0s, standing for greater than or less than a specified threshold\"\"\"\n",
        "  return series.apply(lambda x:(1 if x > threshold else 0))"
      ],
      "execution_count": 0,
      "outputs": []
    },
    {
      "metadata": {
        "id": "X6WCpbRUMs2C",
        "colab_type": "code",
        "colab": {}
      },
      "cell_type": "code",
      "source": [
        "def normalize(examples_dataframe):\n",
        "  \"\"\"Returns a version of the input `DataFrame` that has all its features normalized\"\"\"\n",
        "  new_df = pd.DataFrame()\n",
        "  for col in examples_dataframe.columns:\n",
        "    new_df[col] = linear_scale(examples_dataframe[col]) # pick your normalization function here\n",
        "  return new_df"
      ],
      "execution_count": 0,
      "outputs": []
    },
    {
      "metadata": {
        "id": "eur7tCWhRXxB",
        "colab_type": "code",
        "colab": {}
      },
      "cell_type": "code",
      "source": [
        "def normalize_specific(examples_dataframe):\n",
        "  \"\"\"Applies different normalization functions to different columns\"\"\"\n",
        "  new_df = pd.DataFrame()\n",
        "  new_df['col1'] = linear_scale(clip(examples_dataframe['col1'], 0, 100)) # might be good for a column with outliers\n",
        "  new_df['col2'] = linear_scale(examples_dataframe['col2'])\n",
        "  new_df['col3'] = z_score_normalize(examples_dataframe['col3'])\n",
        "  new_df['col4'] = binary_threshold(examples_dataframe['col4'], 20)"
      ],
      "execution_count": 0,
      "outputs": []
    }
  ]
}