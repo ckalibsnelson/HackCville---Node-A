{
  "nbformat": 4,
  "nbformat_minor": 0,
  "metadata": {
    "colab": {
      "name": "06 - Linear and Logistic Regression with Iris.ipynb",
      "version": "0.3.2",
      "provenance": [],
      "include_colab_link": true
    },
    "kernelspec": {
      "name": "python3",
      "display_name": "Python 3"
    }
  },
  "cells": [
    {
      "cell_type": "markdown",
      "metadata": {
        "id": "view-in-github",
        "colab_type": "text"
      },
      "source": [
        "<a href=\"https://colab.research.google.com/github/ckalibsnelson/HackCville---Node-A/blob/master/06_Linear_and_Logistic_Regression_with_Iris.ipynb\" target=\"_parent\"><img src=\"https://colab.research.google.com/assets/colab-badge.svg\" alt=\"Open In Colab\"/></a>"
      ]
    },
    {
      "metadata": {
        "id": "1YOzibtUleug",
        "colab_type": "code",
        "outputId": "859c5d89-80e4-41ea-9b9d-4040354f51f5",
        "colab": {
          "base_uri": "https://localhost:8080/",
          "height": 400
        }
      },
      "cell_type": "code",
      "source": [
        "import pandas as pd\n",
        "!pip install seaborn==0.9.0 # you have to restart runtime to actually get to version 0.9.0\n",
        "import seaborn as sns\n",
        "import matplotlib.pyplot as plt\n",
        "from sklearn.linear_model import LinearRegression, LogisticRegression\n",
        "from sklearn.model_selection import train_test_split\n",
        "from sklearn.metrics import r2_score, accuracy_score, mean_squared_error"
      ],
      "execution_count": 0,
      "outputs": [
        {
          "output_type": "stream",
          "text": [
            "Requirement already satisfied: seaborn==0.9.0 in /usr/local/lib/python3.6/dist-packages (0.9.0)\n",
            "Requirement already satisfied: numpy>=1.9.3 in /usr/local/lib/python3.6/dist-packages (from seaborn==0.9.0) (1.14.6)\n",
            "Requirement already satisfied: matplotlib>=1.4.3 in /usr/local/lib/python3.6/dist-packages (from seaborn==0.9.0) (3.0.3)\n",
            "Requirement already satisfied: pandas>=0.15.2 in /usr/local/lib/python3.6/dist-packages (from seaborn==0.9.0) (0.22.0)\n",
            "Requirement already satisfied: scipy>=0.14.0 in /usr/local/lib/python3.6/dist-packages (from seaborn==0.9.0) (1.1.0)\n",
            "Requirement already satisfied: kiwisolver>=1.0.1 in /usr/local/lib/python3.6/dist-packages (from matplotlib>=1.4.3->seaborn==0.9.0) (1.0.1)\n",
            "Requirement already satisfied: pyparsing!=2.0.4,!=2.1.2,!=2.1.6,>=2.0.1 in /usr/local/lib/python3.6/dist-packages (from matplotlib>=1.4.3->seaborn==0.9.0) (2.3.1)\n",
            "Requirement already satisfied: cycler>=0.10 in /usr/local/lib/python3.6/dist-packages (from matplotlib>=1.4.3->seaborn==0.9.0) (0.10.0)\n",
            "Requirement already satisfied: python-dateutil>=2.1 in /usr/local/lib/python3.6/dist-packages (from matplotlib>=1.4.3->seaborn==0.9.0) (2.5.3)\n",
            "Requirement already satisfied: pytz>=2011k in /usr/local/lib/python3.6/dist-packages (from pandas>=0.15.2->seaborn==0.9.0) (2018.9)\n",
            "Requirement already satisfied: setuptools in /usr/local/lib/python3.6/dist-packages (from kiwisolver>=1.0.1->matplotlib>=1.4.3->seaborn==0.9.0) (40.8.0)\n",
            "Requirement already satisfied: six in /usr/local/lib/python3.6/dist-packages (from cycler>=0.10->matplotlib>=1.4.3->seaborn==0.9.0) (1.11.0)\n"
          ],
          "name": "stdout"
        }
      ]
    },
    {
      "metadata": {
        "id": "QQgKIS2ki-1M",
        "colab_type": "code",
        "outputId": "614c75d3-e1be-4e4d-fd14-51e5cef6911e",
        "colab": {
          "base_uri": "https://localhost:8080/",
          "height": 116
        }
      },
      "cell_type": "code",
      "source": [
        "sns.__version__"
      ],
      "execution_count": 0,
      "outputs": [
        {
          "output_type": "execute_result",
          "data": {
            "text/plain": [
              "'0.9.0'"
            ]
          },
          "metadata": {
            "tags": []
          },
          "execution_count": 3
        }
      ]
    },
    {
      "metadata": {
        "id": "tnsjdUB8WOBy",
        "colab_type": "text"
      },
      "cell_type": "markdown",
      "source": [
        "# Linear Regression\n",
        "\n",
        "with the iris dataset\n",
        "\n",
        "![alt text](https://www.gardendesign.com/pictures/images/900x705Max/site_3/iris-cristata-dwarf-crested-iris-purple-flower-shutterstock-com_12594.jpg)\n",
        "\n",
        "### Examining our data"
      ]
    },
    {
      "metadata": {
        "id": "4OlLBcrFtPpi",
        "colab_type": "code",
        "colab": {}
      },
      "cell_type": "code",
      "source": [
        "iris = pd.read_csv('https://raw.githubusercontent.com/uiuc-cse/data-fa14/gh-pages/data/iris.csv', header=0)"
      ],
      "execution_count": 0,
      "outputs": []
    },
    {
      "metadata": {
        "id": "N0zr9QVytR7D",
        "colab_type": "code",
        "outputId": "58ce279a-0500-4885-bff4-e3dadaac67ae",
        "colab": {
          "base_uri": "https://localhost:8080/",
          "height": 288
        }
      },
      "cell_type": "code",
      "source": [
        "iris.head()"
      ],
      "execution_count": 0,
      "outputs": [
        {
          "output_type": "execute_result",
          "data": {
            "text/html": [
              "<div>\n",
              "<style scoped>\n",
              "    .dataframe tbody tr th:only-of-type {\n",
              "        vertical-align: middle;\n",
              "    }\n",
              "\n",
              "    .dataframe tbody tr th {\n",
              "        vertical-align: top;\n",
              "    }\n",
              "\n",
              "    .dataframe thead th {\n",
              "        text-align: right;\n",
              "    }\n",
              "</style>\n",
              "<table border=\"1\" class=\"dataframe\">\n",
              "  <thead>\n",
              "    <tr style=\"text-align: right;\">\n",
              "      <th></th>\n",
              "      <th>sepal_length</th>\n",
              "      <th>sepal_width</th>\n",
              "      <th>petal_length</th>\n",
              "      <th>petal_width</th>\n",
              "      <th>species</th>\n",
              "    </tr>\n",
              "  </thead>\n",
              "  <tbody>\n",
              "    <tr>\n",
              "      <th>0</th>\n",
              "      <td>5.1</td>\n",
              "      <td>3.5</td>\n",
              "      <td>1.4</td>\n",
              "      <td>0.2</td>\n",
              "      <td>setosa</td>\n",
              "    </tr>\n",
              "    <tr>\n",
              "      <th>1</th>\n",
              "      <td>4.9</td>\n",
              "      <td>3.0</td>\n",
              "      <td>1.4</td>\n",
              "      <td>0.2</td>\n",
              "      <td>setosa</td>\n",
              "    </tr>\n",
              "    <tr>\n",
              "      <th>2</th>\n",
              "      <td>4.7</td>\n",
              "      <td>3.2</td>\n",
              "      <td>1.3</td>\n",
              "      <td>0.2</td>\n",
              "      <td>setosa</td>\n",
              "    </tr>\n",
              "    <tr>\n",
              "      <th>3</th>\n",
              "      <td>4.6</td>\n",
              "      <td>3.1</td>\n",
              "      <td>1.5</td>\n",
              "      <td>0.2</td>\n",
              "      <td>setosa</td>\n",
              "    </tr>\n",
              "    <tr>\n",
              "      <th>4</th>\n",
              "      <td>5.0</td>\n",
              "      <td>3.6</td>\n",
              "      <td>1.4</td>\n",
              "      <td>0.2</td>\n",
              "      <td>setosa</td>\n",
              "    </tr>\n",
              "  </tbody>\n",
              "</table>\n",
              "</div>"
            ],
            "text/plain": [
              "   sepal_length  sepal_width  petal_length  petal_width species\n",
              "0           5.1          3.5           1.4          0.2  setosa\n",
              "1           4.9          3.0           1.4          0.2  setosa\n",
              "2           4.7          3.2           1.3          0.2  setosa\n",
              "3           4.6          3.1           1.5          0.2  setosa\n",
              "4           5.0          3.6           1.4          0.2  setosa"
            ]
          },
          "metadata": {
            "tags": []
          },
          "execution_count": 5
        }
      ]
    },
    {
      "metadata": {
        "id": "HchEnol-l8BI",
        "colab_type": "code",
        "outputId": "c9c5b1a7-f9ea-4635-9788-62fe85c9bdf6",
        "colab": {
          "base_uri": "https://localhost:8080/",
          "height": 168
        }
      },
      "cell_type": "code",
      "source": [
        "iris['species'].value_counts()"
      ],
      "execution_count": 0,
      "outputs": [
        {
          "output_type": "execute_result",
          "data": {
            "text/plain": [
              "setosa        50\n",
              "virginica     50\n",
              "versicolor    50\n",
              "Name: species, dtype: int64"
            ]
          },
          "metadata": {
            "tags": []
          },
          "execution_count": 6
        }
      ]
    },
    {
      "metadata": {
        "id": "vryP4gMhMFvL",
        "colab_type": "text"
      },
      "cell_type": "markdown",
      "source": [
        "A good thing to do first is see the correlation between variables so we know where to start"
      ]
    },
    {
      "metadata": {
        "id": "17eK2Qn3tULq",
        "colab_type": "code",
        "outputId": "61c06826-1f63-43b4-be7a-488a24d5c223",
        "colab": {
          "base_uri": "https://localhost:8080/",
          "height": 808
        }
      },
      "cell_type": "code",
      "source": [
        "sns.pairplot(iris, hue='species')"
      ],
      "execution_count": 0,
      "outputs": [
        {
          "output_type": "execute_result",
          "data": {
            "text/plain": [
              "<seaborn.axisgrid.PairGrid at 0x7f88c882f860>"
            ]
          },
          "metadata": {
            "tags": []
          },
          "execution_count": 7
        },
        {
          "output_type": "display_data",
          "data": {
            "image/png": "[encoded data removed]",
            "text/plain": [
              "<Figure size 804.75x720 with 20 Axes>"
            ]
          },
          "metadata": {
            "tags": []
          }
        }
      ]
    },
    {
      "metadata": {
        "id": "lGzkpLO4nCe2",
        "colab_type": "code",
        "outputId": "2eb909fa-b773-40d6-bd32-0fb49f0e83a3",
        "colab": {
          "base_uri": "https://localhost:8080/",
          "height": 236
        }
      },
      "cell_type": "code",
      "source": [
        "iris.corr()"
      ],
      "execution_count": 0,
      "outputs": [
        {
          "output_type": "execute_result",
          "data": {
            "text/html": [
              "<div>\n",
              "<style scoped>\n",
              "    .dataframe tbody tr th:only-of-type {\n",
              "        vertical-align: middle;\n",
              "    }\n",
              "\n",
              "    .dataframe tbody tr th {\n",
              "        vertical-align: top;\n",
              "    }\n",
              "\n",
              "    .dataframe thead th {\n",
              "        text-align: right;\n",
              "    }\n",
              "</style>\n",
              "<table border=\"1\" class=\"dataframe\">\n",
              "  <thead>\n",
              "    <tr style=\"text-align: right;\">\n",
              "      <th></th>\n",
              "      <th>sepal_length</th>\n",
              "      <th>sepal_width</th>\n",
              "      <th>petal_length</th>\n",
              "      <th>petal_width</th>\n",
              "    </tr>\n",
              "  </thead>\n",
              "  <tbody>\n",
              "    <tr>\n",
              "      <th>sepal_length</th>\n",
              "      <td>1.000000</td>\n",
              "      <td>-0.109369</td>\n",
              "      <td>0.871754</td>\n",
              "      <td>0.817954</td>\n",
              "    </tr>\n",
              "    <tr>\n",
              "      <th>sepal_width</th>\n",
              "      <td>-0.109369</td>\n",
              "      <td>1.000000</td>\n",
              "      <td>-0.420516</td>\n",
              "      <td>-0.356544</td>\n",
              "    </tr>\n",
              "    <tr>\n",
              "      <th>petal_length</th>\n",
              "      <td>0.871754</td>\n",
              "      <td>-0.420516</td>\n",
              "      <td>1.000000</td>\n",
              "      <td>0.962757</td>\n",
              "    </tr>\n",
              "    <tr>\n",
              "      <th>petal_width</th>\n",
              "      <td>0.817954</td>\n",
              "      <td>-0.356544</td>\n",
              "      <td>0.962757</td>\n",
              "      <td>1.000000</td>\n",
              "    </tr>\n",
              "  </tbody>\n",
              "</table>\n",
              "</div>"
            ],
            "text/plain": [
              "              sepal_length  sepal_width  petal_length  petal_width\n",
              "sepal_length      1.000000    -0.109369      0.871754     0.817954\n",
              "sepal_width      -0.109369     1.000000     -0.420516    -0.356544\n",
              "petal_length      0.871754    -0.420516      1.000000     0.962757\n",
              "petal_width       0.817954    -0.356544      0.962757     1.000000"
            ]
          },
          "metadata": {
            "tags": []
          },
          "execution_count": 8
        }
      ]
    },
    {
      "metadata": {
        "id": "rzonPBs3LMmt",
        "colab_type": "text"
      },
      "cell_type": "markdown",
      "source": [
        "The diagonal are all 1s because the same column is 100% the same as itself."
      ]
    },
    {
      "metadata": {
        "id": "jyrBLeDxt0tB",
        "colab_type": "text"
      },
      "cell_type": "markdown",
      "source": [
        "## Predicting Petal length from petal width"
      ]
    },
    {
      "metadata": {
        "id": "0MU4TmgDtY4q",
        "colab_type": "code",
        "outputId": "e40c85b0-fb75-4cf0-ff10-74f2381d46ef",
        "colab": {
          "base_uri": "https://localhost:8080/",
          "height": 310
        }
      },
      "cell_type": "code",
      "source": [
        "plt.scatter(iris['petal_width'], iris['petal_length'])\n",
        "plt.show()"
      ],
      "execution_count": 0,
      "outputs": [
        {
          "output_type": "display_data",
          "data": {
            "image/png": "[encoded data removed]",
            "text/plain": [
              "<Figure size 432x288 with 1 Axes>"
            ]
          },
          "metadata": {
            "tags": []
          }
        }
      ]
    },
    {
      "metadata": {
        "id": "JV2aH0mZuBaj",
        "colab_type": "code",
        "colab": {}
      },
      "cell_type": "code",
      "source": [
        "X_data = iris[['petal_width']] # must be a dataframe for linear regression\n",
        "Y_data = iris['petal_length']\n",
        "x_train, x_test, y_train, y_test = train_test_split(X_data, Y_data, test_size=0.2, random_state=1) # how to split the data using an sklearn function"
      ],
      "execution_count": 0,
      "outputs": []
    },
    {
      "metadata": {
        "id": "SXD0Y81yu1UD",
        "colab_type": "code",
        "colab": {}
      },
      "cell_type": "code",
      "source": [
        "x_train"
      ],
      "execution_count": 0,
      "outputs": []
    },
    {
      "metadata": {
        "id": "x8zYiGmVu2rr",
        "colab_type": "code",
        "outputId": "b4b9ba8c-6bf4-4335-b293-0025503edd68",
        "colab": {
          "base_uri": "https://localhost:8080/",
          "height": 164
        }
      },
      "cell_type": "code",
      "source": [
        "y_train.head()"
      ],
      "execution_count": 0,
      "outputs": [
        {
          "output_type": "execute_result",
          "data": {
            "text/plain": [
              "133    5.1\n",
              "108    5.8\n",
              "6      1.4\n",
              "60     3.5\n",
              "59     3.9\n",
              "Name: petal_length, dtype: float64"
            ]
          },
          "metadata": {
            "tags": []
          },
          "execution_count": 13
        }
      ]
    },
    {
      "metadata": {
        "id": "IFkv0Iee9mVp",
        "colab_type": "code",
        "colab": {}
      },
      "cell_type": "code",
      "source": [
        "x_test"
      ],
      "execution_count": 0,
      "outputs": []
    },
    {
      "metadata": {
        "id": "HXYsLTYhu3kh",
        "colab_type": "code",
        "outputId": "2140a6a3-d9c6-4fb3-db7e-62e04a35c261",
        "colab": {
          "base_uri": "https://localhost:8080/",
          "height": 93
        }
      },
      "cell_type": "code",
      "source": [
        "lin = LinearRegression()\n",
        "lin.fit(x_train, y_train)"
      ],
      "execution_count": 0,
      "outputs": [
        {
          "output_type": "execute_result",
          "data": {
            "text/plain": [
              "LinearRegression(copy_X=True, fit_intercept=True, n_jobs=None,\n",
              "         normalize=False)"
            ]
          },
          "metadata": {
            "tags": []
          },
          "execution_count": 16
        }
      ]
    },
    {
      "metadata": {
        "id": "7fcQ_VkCu9jr",
        "colab_type": "code",
        "outputId": "075a7441-5b0d-4685-e655-cd819d1acc3e",
        "colab": {
          "base_uri": "https://localhost:8080/",
          "height": 93
        }
      },
      "cell_type": "code",
      "source": [
        "print(lin.coef_)\n",
        "print(lin.intercept_)"
      ],
      "execution_count": 0,
      "outputs": [
        {
          "output_type": "stream",
          "text": [
            "[2.25129944]\n",
            "1.0613638380243882\n"
          ],
          "name": "stdout"
        }
      ]
    },
    {
      "metadata": {
        "id": "Z9Nrognu-MJz",
        "colab_type": "code",
        "outputId": "6b7dfd30-9089-4b84-e38e-ad58a0d92073",
        "colab": {
          "base_uri": "https://localhost:8080/",
          "height": 482
        }
      },
      "cell_type": "code",
      "source": [
        "lin.predict(x_train)"
      ],
      "execution_count": 0,
      "outputs": [
        {
          "output_type": "execute_result",
          "data": {
            "text/plain": [
              "array([4.438313  , 5.11370283, 1.73675367, 3.31266328, 4.21318305,\n",
              "       1.51162373, 4.438313  , 4.21318305, 1.73675367, 4.66344294,\n",
              "       3.98805311, 6.23935255, 5.33883277, 5.11370283, 5.78909266,\n",
              "       1.96188361, 1.73675367, 1.28649378, 1.51162373, 6.46448249,\n",
              "       4.438313  , 3.98805311, 1.96188361, 4.21318305, 1.51162373,\n",
              "       4.438313  , 5.78909266, 6.23935255, 1.96188361, 3.98805311,\n",
              "       5.78909266, 3.98805311, 1.51162373, 2.18701356, 5.33883277,\n",
              "       5.56396271, 3.31266328, 1.51162373, 3.98805311, 1.51162373,\n",
              "       4.88857288, 5.56396271, 1.96188361, 3.31266328, 1.51162373,\n",
              "       6.0142226 , 1.96188361, 1.28649378, 5.11370283, 1.51162373,\n",
              "       5.11370283, 6.23935255, 3.53779322, 1.28649378, 4.438313  ,\n",
              "       5.11370283, 6.0142226 , 4.21318305, 4.88857288, 1.51162373,\n",
              "       4.438313  , 6.23935255, 5.33883277, 3.31266328, 1.51162373,\n",
              "       1.73675367, 1.51162373, 5.11370283, 1.51162373, 5.11370283,\n",
              "       3.98805311, 4.438313  , 4.21318305, 5.78909266, 3.76292316,\n",
              "       5.78909266, 6.46448249, 3.31266328, 1.51162373, 1.51162373,\n",
              "       5.56396271, 1.28649378, 1.51162373, 3.98805311, 1.51162373,\n",
              "       5.56396271, 5.56396271, 1.51162373, 5.11370283, 3.31266328,\n",
              "       1.73675367, 5.11370283, 6.0142226 , 5.11370283, 3.98805311,\n",
              "       6.23935255, 6.23935255, 1.73675367, 3.98805311, 2.4121435 ,\n",
              "       5.56396271, 1.51162373, 4.66344294, 1.73675367, 1.96188361,\n",
              "       6.23935255, 1.51162373, 3.76292316, 5.11370283, 1.51162373,\n",
              "       4.438313  , 6.68961243, 1.51162373, 3.53779322, 4.438313  ,\n",
              "       1.51162373, 4.21318305, 4.66344294, 1.51162373, 6.46448249])"
            ]
          },
          "metadata": {
            "tags": []
          },
          "execution_count": 18
        }
      ]
    },
    {
      "metadata": {
        "id": "Z6BLchLWPkBa",
        "colab_type": "code",
        "outputId": "9591c5ba-5838-4291-eee9-e06dd3a29a15",
        "colab": {
          "base_uri": "https://localhost:8080/",
          "height": 93
        }
      },
      "cell_type": "code",
      "source": [
        "print(r2_score(lin.predict(x_train), y_train))\n",
        "\n",
        "# the default .score() method of a regression model is r2_score\n",
        "# so here is another way to see the r^2 score\n",
        "print(lin.score(x_train, y_train))"
      ],
      "execution_count": 0,
      "outputs": [
        {
          "output_type": "stream",
          "text": [
            "0.9199584701067601\n",
            "0.9258903221053437\n"
          ],
          "name": "stdout"
        }
      ]
    },
    {
      "metadata": {
        "id": "3iPijRwpV6lJ",
        "colab_type": "text"
      },
      "cell_type": "markdown",
      "source": [
        "We check the r^2 score of our fitted data, and it's pretty good, greater than 0.9."
      ]
    },
    {
      "metadata": {
        "id": "FKJiNGJYwxRL",
        "colab_type": "code",
        "colab": {}
      },
      "cell_type": "code",
      "source": [
        "y_predict = lin.predict(x_test)"
      ],
      "execution_count": 0,
      "outputs": []
    },
    {
      "metadata": {
        "id": "iqXcFIvJ-fv8",
        "colab_type": "code",
        "outputId": "0b413720-4caf-409a-868d-c4a84f623ad8",
        "colab": {
          "base_uri": "https://localhost:8080/",
          "height": 164
        }
      },
      "cell_type": "code",
      "source": [
        "y_predict"
      ],
      "execution_count": 0,
      "outputs": [
        {
          "output_type": "execute_result",
          "data": {
            "text/plain": [
              "array([4.66344294, 1.51162373, 3.98805311, 5.11370283, 3.31266328,\n",
              "       3.76292316, 4.438313  , 1.51162373, 1.51162373, 6.68961243,\n",
              "       1.51162373, 1.51162373, 5.78909266, 3.98805311, 3.53779322,\n",
              "       6.23935255, 5.33883277, 6.68961243, 1.28649378, 3.98805311,\n",
              "       4.438313  , 4.21318305, 4.21318305, 3.76292316, 1.96188361,\n",
              "       4.438313  , 3.98805311, 3.76292316, 1.28649378, 5.33883277])"
            ]
          },
          "metadata": {
            "tags": []
          },
          "execution_count": 21
        }
      ]
    },
    {
      "metadata": {
        "id": "1q6eWHrvvvHJ",
        "colab_type": "code",
        "outputId": "598f2a4a-38c2-4fdf-9d73-d7891e9eb4c9",
        "colab": {
          "base_uri": "https://localhost:8080/",
          "height": 289
        }
      },
      "cell_type": "code",
      "source": [
        "plt.scatter(x_test, y_test)\n",
        "plt.plot(x_test, y_predict, color='blue', linewidth=3)\n",
        "plt.show()"
      ],
      "execution_count": 0,
      "outputs": [
        {
          "output_type": "display_data",
          "data": {
            "image/png": "[encoded data removed]",
            "text/plain": [
              "<Figure size 432x288 with 1 Axes>"
            ]
          },
          "metadata": {
            "tags": []
          }
        }
      ]
    },
    {
      "metadata": {
        "id": "B8r3m5PhWDNE",
        "colab_type": "text"
      },
      "cell_type": "markdown",
      "source": [
        "## Predicting Sepal Length from Sepal Width\n",
        "\n",
        "An example of when linear regression doesn't work"
      ]
    },
    {
      "metadata": {
        "id": "zjXBCNhIzZp0",
        "colab_type": "code",
        "colab": {}
      },
      "cell_type": "code",
      "source": [
        "X_data = iris[['sepal_width']]\n",
        "Y_data = iris['sepal_length']\n",
        "x_train, x_test, y_train, y_test = train_test_split(X_data, Y_data, test_size=0.2) "
      ],
      "execution_count": 0,
      "outputs": []
    },
    {
      "metadata": {
        "id": "Nswgtz52mt2z",
        "colab_type": "code",
        "outputId": "40a0ead1-95bf-4110-cf61-d0533f49da88",
        "colab": {
          "base_uri": "https://localhost:8080/",
          "height": 110
        }
      },
      "cell_type": "code",
      "source": [
        "lin = LinearRegression()\n",
        "lin.fit(x_train, y_train)\n",
        "print(lin.coef_)\n",
        "print(lin.intercept_)\n",
        "print(r2_score(lin.predict(x_train), y_train))"
      ],
      "execution_count": 0,
      "outputs": [
        {
          "output_type": "stream",
          "text": [
            "[-0.09454494]\n",
            "6.175210570944037\n",
            "-392.2794801155593\n"
          ],
          "name": "stdout"
        }
      ]
    },
    {
      "metadata": {
        "id": "_XaselWDWoNA",
        "colab_type": "text"
      },
      "cell_type": "markdown",
      "source": [
        "Really bad r^2 score on this one (don't really know how it gets that negative)"
      ]
    },
    {
      "metadata": {
        "id": "o0u_wVFjm6Fa",
        "colab_type": "code",
        "outputId": "2530f570-8473-429f-8aae-d75db78cdcb5",
        "colab": {
          "base_uri": "https://localhost:8080/",
          "height": 289
        }
      },
      "cell_type": "code",
      "source": [
        "plt.scatter(x_test, y_test)\n",
        "plt.plot(x_test, lin.predict(x_test), color='blue', linewidth=3)\n",
        "plt.show()"
      ],
      "execution_count": 0,
      "outputs": [
        {
          "output_type": "display_data",
          "data": {
            "image/png": "[encoded data removed]",
            "text/plain": [
              "<Figure size 432x288 with 1 Axes>"
            ]
          },
          "metadata": {
            "tags": []
          }
        }
      ]
    },
    {
      "metadata": {
        "id": "mkHTZbLBWVFk",
        "colab_type": "text"
      },
      "cell_type": "markdown",
      "source": [
        "## Exercise\n",
        "\n",
        "Sepal length vs. width is not a good fit. What if you try relating sepal width to sepal length split by species?"
      ]
    },
    {
      "metadata": {
        "id": "t6O_520UsrpV",
        "colab_type": "code",
        "colab": {}
      },
      "cell_type": "code",
      "source": [
        "versicolor = iris[iris['species'] == 'setosa']\n",
        "X_data = versicolor[['sepal_width']]\n",
        "Y_data = versicolor['sepal_length']\n",
        "x_train, x_test, y_train, y_test = train_test_split(X_data, Y_data, test_size=0.2) "
      ],
      "execution_count": 0,
      "outputs": []
    },
    {
      "metadata": {
        "id": "iFhCXG7ptE92",
        "colab_type": "code",
        "outputId": "276643e6-597d-4a28-f48f-86592d7270c7",
        "colab": {
          "base_uri": "https://localhost:8080/",
          "height": 72
        }
      },
      "cell_type": "code",
      "source": [
        "lin = LinearRegression()\n",
        "lin.fit(x_train, y_train)\n",
        "print(lin.coef_)\n",
        "print(lin.intercept_)\n",
        "print(r2_score(lin.predict(x_train), y_train))"
      ],
      "execution_count": 0,
      "outputs": [
        {
          "output_type": "stream",
          "text": [
            "[0.68072289]\n",
            "2.657831325301205\n",
            "0.19085691503265334\n"
          ],
          "name": "stdout"
        }
      ]
    },
    {
      "metadata": {
        "id": "QWpgQ5yrtmex",
        "colab_type": "text"
      },
      "cell_type": "markdown",
      "source": [
        "Low r^2 score probably because of the small number of instances in our training and test sets"
      ]
    },
    {
      "metadata": {
        "id": "GfUHml9ctTw8",
        "colab_type": "code",
        "outputId": "99bb6e2d-edf0-471d-bc70-5dfc8c4ee82c",
        "colab": {
          "base_uri": "https://localhost:8080/",
          "height": 347
        }
      },
      "cell_type": "code",
      "source": [
        "plt.scatter(x_test, y_test)\n",
        "plt.plot(x_test, lin.predict(x_test), color='blue', linewidth=3)\n",
        "plt.show()"
      ],
      "execution_count": 0,
      "outputs": [
        {
          "output_type": "display_data",
          "data": {
            "image/png": "[encoded data removed]",
            "text/plain": [
              "<Figure size 576x396 with 1 Axes>"
            ]
          },
          "metadata": {
            "tags": []
          }
        }
      ]
    },
    {
      "metadata": {
        "id": "tTWK3OS-G2dS",
        "colab_type": "text"
      },
      "cell_type": "markdown",
      "source": [
        "# Multiple Linear Regression\n",
        "\n",
        "Now let's see if we can get a more accurate prediction of petal length using multiple independent variables. \n",
        "\n",
        "From the seaborn pairplot, we can see that `sepal_length` seems to also have a linear relationship with the `petal_length`, so it will likely boost the strength of our model.\n",
        "\n",
        "So let's try a linear regression with `petal_length = a*sepal_length + b*petal_width + c`"
      ]
    },
    {
      "metadata": {
        "id": "RGKVXgVKLHj1",
        "colab_type": "code",
        "outputId": "4233b979-dcad-406c-8fe4-c7469fcd933b",
        "colab": {
          "base_uri": "https://localhost:8080/",
          "height": 72
        }
      },
      "cell_type": "code",
      "source": [
        "X_data = iris[['petal_width', 'sepal_length']]\n",
        "Y_data = iris['petal_length']\n",
        "x_train, x_test, y_train, y_test = train_test_split(X_data, Y_data, test_size=0.2) \n",
        "lin = LinearRegression()\n",
        "lin.fit(x_train, y_train)\n",
        "print(lin.coef_)\n",
        "print(lin.intercept_)\n",
        "print(r2_score(lin.predict(x_train), y_train))"
      ],
      "execution_count": 0,
      "outputs": [
        {
          "output_type": "stream",
          "text": [
            "[1.77358647 0.52152745]\n",
            "-1.4225468508681947\n",
            "0.9434124148927013\n"
          ],
          "name": "stdout"
        }
      ]
    },
    {
      "metadata": {
        "id": "tKeFKvOIXLF5",
        "colab_type": "text"
      },
      "cell_type": "markdown",
      "source": [
        "Our r^2 score got a little better! Every bit matters"
      ]
    },
    {
      "metadata": {
        "id": "ApLbSV1yl2RL",
        "colab_type": "text"
      },
      "cell_type": "markdown",
      "source": [
        "# Logistic Regression"
      ]
    },
    {
      "metadata": {
        "id": "D5fwhjUMLn5y",
        "colab_type": "text"
      },
      "cell_type": "markdown",
      "source": [
        "![alt text](http://res.cloudinary.com/dyd911kmh/image/upload/f_auto,q_auto:best/v1534281070/linear_vs_logistic_regression_edxw03.png)"
      ]
    },
    {
      "metadata": {
        "id": "CU919PeVl3fH",
        "colab_type": "code",
        "colab": {}
      },
      "cell_type": "code",
      "source": [
        "X_data = iris[['petal_width']]\n",
        "Y_data = iris[['species']]\n",
        "x_train, x_test, y_train, y_test = train_test_split(X_data, Y_data)"
      ],
      "execution_count": 0,
      "outputs": []
    },
    {
      "metadata": {
        "id": "9pz2z-mFNgUE",
        "colab_type": "code",
        "outputId": "a706445c-147b-4087-9485-993d9305ea5c",
        "colab": {
          "base_uri": "https://localhost:8080/",
          "height": 301
        }
      },
      "cell_type": "code",
      "source": [
        "sns.barplot(x='species', y='petal_width', data=iris)"
      ],
      "execution_count": 0,
      "outputs": [
        {
          "output_type": "execute_result",
          "data": {
            "text/plain": [
              "<matplotlib.axes._subplots.AxesSubplot at 0x7faf00d59898>"
            ]
          },
          "metadata": {
            "tags": []
          },
          "execution_count": 12
        },
        {
          "output_type": "display_data",
          "data": {
            "image/png": "[encoded data removed]",
            "text/plain": [
              "<Figure size 432x288 with 1 Axes>"
            ]
          },
          "metadata": {
            "tags": []
          }
        }
      ]
    },
    {
      "metadata": {
        "id": "f7fdUB00mCBy",
        "colab_type": "code",
        "outputId": "35750a64-e6a0-4fb3-fc6a-e11ebc4da996",
        "colab": {
          "base_uri": "https://localhost:8080/",
          "height": 219
        }
      },
      "cell_type": "code",
      "source": [
        "log = LogisticRegression()\n",
        "log.fit(x_train, y_train)"
      ],
      "execution_count": 0,
      "outputs": [
        {
          "output_type": "stream",
          "text": [
            "/usr/local/lib/python3.6/dist-packages/sklearn/linear_model/logistic.py:433: FutureWarning: Default solver will be changed to 'lbfgs' in 0.22. Specify a solver to silence this warning.\n",
            "  FutureWarning)\n",
            "/usr/local/lib/python3.6/dist-packages/sklearn/utils/validation.py:761: DataConversionWarning: A column-vector y was passed when a 1d array was expected. Please change the shape of y to (n_samples, ), for example using ravel().\n",
            "  y = column_or_1d(y, warn=True)\n",
            "/usr/local/lib/python3.6/dist-packages/sklearn/linear_model/logistic.py:460: FutureWarning: Default multi_class will be changed to 'auto' in 0.22. Specify the multi_class option to silence this warning.\n",
            "  \"this warning.\", FutureWarning)\n"
          ],
          "name": "stderr"
        },
        {
          "output_type": "execute_result",
          "data": {
            "text/plain": [
              "LogisticRegression(C=1.0, class_weight=None, dual=False, fit_intercept=True,\n",
              "          intercept_scaling=1, max_iter=100, multi_class='warn',\n",
              "          n_jobs=None, penalty='l2', random_state=None, solver='warn',\n",
              "          tol=0.0001, verbose=0, warm_start=False)"
            ]
          },
          "metadata": {
            "tags": []
          },
          "execution_count": 13
        }
      ]
    },
    {
      "metadata": {
        "id": "4inyZWNyN6aU",
        "colab_type": "code",
        "outputId": "97dc27b7-0a1a-4a7a-847d-7ac15705930e",
        "colab": {
          "base_uri": "https://localhost:8080/",
          "height": 163
        }
      },
      "cell_type": "code",
      "source": [
        "y_predict = log.predict(x_test)\n",
        "y_predict"
      ],
      "execution_count": 0,
      "outputs": [
        {
          "output_type": "execute_result",
          "data": {
            "text/plain": [
              "array(['virginica', 'virginica', 'setosa', 'virginica', 'versicolor',\n",
              "       'virginica', 'versicolor', 'setosa', 'setosa', 'virginica',\n",
              "       'setosa', 'setosa', 'setosa', 'virginica', 'virginica',\n",
              "       'versicolor', 'setosa', 'virginica', 'setosa', 'virginica',\n",
              "       'versicolor', 'virginica', 'versicolor', 'setosa', 'virginica',\n",
              "       'virginica', 'versicolor', 'versicolor', 'virginica', 'setosa',\n",
              "       'setosa', 'virginica', 'virginica', 'setosa', 'virginica',\n",
              "       'virginica', 'virginica', 'setosa'], dtype=object)"
            ]
          },
          "metadata": {
            "tags": []
          },
          "execution_count": 14
        }
      ]
    },
    {
      "metadata": {
        "id": "Ii-jv1dVVWX7",
        "colab_type": "code",
        "outputId": "d349faf4-2ed7-4103-a60a-5b67e8b79130",
        "colab": {
          "base_uri": "https://localhost:8080/",
          "height": 709
        }
      },
      "cell_type": "code",
      "source": [
        "# Probabilities are in the order [setosa, versicolor, virginica]\n",
        "y_proba = log.predict_proba(x_test)\n",
        "y_proba"
      ],
      "execution_count": 0,
      "outputs": [
        {
          "output_type": "execute_result",
          "data": {
            "text/plain": [
              "array([[0.00869537, 0.31175833, 0.6795463 ],\n",
              "       [0.09268926, 0.39695408, 0.51035665],\n",
              "       [0.68074685, 0.26250105, 0.0567521 ],\n",
              "       [0.01922528, 0.33522399, 0.64555073],\n",
              "       [0.32526748, 0.39747657, 0.27725595],\n",
              "       [0.06329317, 0.38203324, 0.55467359],\n",
              "       [0.32526748, 0.39747657, 0.27725595],\n",
              "       [0.72884448, 0.23757577, 0.03357975],\n",
              "       [0.74478094, 0.22912092, 0.02609814],\n",
              "       [0.00272756, 0.29063143, 0.70664101],\n",
              "       [0.70801298, 0.24849287, 0.04349415],\n",
              "       [0.72884448, 0.23757577, 0.03357975],\n",
              "       [0.68074685, 0.26250105, 0.0567521 ],\n",
              "       [0.00128521, 0.28368953, 0.71502526],\n",
              "       [0.01922528, 0.33522399, 0.64555073],\n",
              "       [0.1862297 , 0.41324147, 0.40052883],\n",
              "       [0.72884448, 0.23757577, 0.03357975],\n",
              "       [0.01922528, 0.33522399, 0.64555073],\n",
              "       [0.72884448, 0.23757577, 0.03357975],\n",
              "       [0.06329317, 0.38203324, 0.55467359],\n",
              "       [0.32526748, 0.39747657, 0.27725595],\n",
              "       [0.00869537, 0.31175833, 0.6795463 ],\n",
              "       [0.1862297 , 0.41324147, 0.40052883],\n",
              "       [0.72884448, 0.23757577, 0.03357975],\n",
              "       [0.06329317, 0.38203324, 0.55467359],\n",
              "       [0.09268926, 0.39695408, 0.51035665],\n",
              "       [0.25131283, 0.40988835, 0.33879882],\n",
              "       [0.1862297 , 0.41324147, 0.40052883],\n",
              "       [0.02867881, 0.3498205 , 0.62150069],\n",
              "       [0.74478094, 0.22912092, 0.02609814],\n",
              "       [0.70801298, 0.24849287, 0.04349415],\n",
              "       [0.13319046, 0.40822212, 0.45858742],\n",
              "       [0.13319046, 0.40822212, 0.45858742],\n",
              "       [0.68074685, 0.26250105, 0.0567521 ],\n",
              "       [0.09268926, 0.39695408, 0.51035665],\n",
              "       [0.00272756, 0.29063143, 0.70664101],\n",
              "       [0.01922528, 0.33522399, 0.64555073],\n",
              "       [0.72884448, 0.23757577, 0.03357975]])"
            ]
          },
          "metadata": {
            "tags": []
          },
          "execution_count": 15
        }
      ]
    },
    {
      "metadata": {
        "id": "u5Gt6DermEPL",
        "colab_type": "code",
        "outputId": "c613c49b-0af3-4a34-eabe-38fc283ff313",
        "colab": {
          "base_uri": "https://localhost:8080/",
          "height": 53
        }
      },
      "cell_type": "code",
      "source": [
        "print(accuracy_score(y_predict, y_test)) # instead of r2_score, categorical variables use the accuracy_score to check accuracy\n",
        "log.score(x_test, y_test)"
      ],
      "execution_count": 0,
      "outputs": [
        {
          "output_type": "stream",
          "text": [
            "0.7631578947368421\n"
          ],
          "name": "stdout"
        },
        {
          "output_type": "execute_result",
          "data": {
            "text/plain": [
              "0.7631578947368421"
            ]
          },
          "metadata": {
            "tags": []
          },
          "execution_count": 16
        }
      ]
    },
    {
      "metadata": {
        "id": "Qj16nlDpmIKn",
        "colab_type": "code",
        "outputId": "c2d0c9de-77e3-4dce-ab69-98b0360fb868",
        "colab": {
          "base_uri": "https://localhost:8080/",
          "height": 1273
        }
      },
      "cell_type": "code",
      "source": [
        "y_predict = pd.DataFrame(y_predict)\n",
        "pd.concat([y_test.reset_index(), y_predict], axis=1).set_index('index') # to show where the differences are"
      ],
      "execution_count": 0,
      "outputs": [
        {
          "output_type": "execute_result",
          "data": {
            "text/html": [
              "<div>\n",
              "<style scoped>\n",
              "    .dataframe tbody tr th:only-of-type {\n",
              "        vertical-align: middle;\n",
              "    }\n",
              "\n",
              "    .dataframe tbody tr th {\n",
              "        vertical-align: top;\n",
              "    }\n",
              "\n",
              "    .dataframe thead th {\n",
              "        text-align: right;\n",
              "    }\n",
              "</style>\n",
              "<table border=\"1\" class=\"dataframe\">\n",
              "  <thead>\n",
              "    <tr style=\"text-align: right;\">\n",
              "      <th></th>\n",
              "      <th>species</th>\n",
              "      <th>0</th>\n",
              "    </tr>\n",
              "    <tr>\n",
              "      <th>index</th>\n",
              "      <th></th>\n",
              "      <th></th>\n",
              "    </tr>\n",
              "  </thead>\n",
              "  <tbody>\n",
              "    <tr>\n",
              "      <th>113</th>\n",
              "      <td>virginica</td>\n",
              "      <td>virginica</td>\n",
              "    </tr>\n",
              "    <tr>\n",
              "      <th>76</th>\n",
              "      <td>versicolor</td>\n",
              "      <td>virginica</td>\n",
              "    </tr>\n",
              "    <tr>\n",
              "      <th>16</th>\n",
              "      <td>setosa</td>\n",
              "      <td>setosa</td>\n",
              "    </tr>\n",
              "    <tr>\n",
              "      <th>103</th>\n",
              "      <td>virginica</td>\n",
              "      <td>virginica</td>\n",
              "    </tr>\n",
              "    <tr>\n",
              "      <th>93</th>\n",
              "      <td>versicolor</td>\n",
              "      <td>versicolor</td>\n",
              "    </tr>\n",
              "    <tr>\n",
              "      <th>72</th>\n",
              "      <td>versicolor</td>\n",
              "      <td>virginica</td>\n",
              "    </tr>\n",
              "    <tr>\n",
              "      <th>79</th>\n",
              "      <td>versicolor</td>\n",
              "      <td>versicolor</td>\n",
              "    </tr>\n",
              "    <tr>\n",
              "      <th>27</th>\n",
              "      <td>setosa</td>\n",
              "      <td>setosa</td>\n",
              "    </tr>\n",
              "    <tr>\n",
              "      <th>34</th>\n",
              "      <td>setosa</td>\n",
              "      <td>setosa</td>\n",
              "    </tr>\n",
              "    <tr>\n",
              "      <th>115</th>\n",
              "      <td>virginica</td>\n",
              "      <td>virginica</td>\n",
              "    </tr>\n",
              "    <tr>\n",
              "      <th>45</th>\n",
              "      <td>setosa</td>\n",
              "      <td>setosa</td>\n",
              "    </tr>\n",
              "    <tr>\n",
              "      <th>47</th>\n",
              "      <td>setosa</td>\n",
              "      <td>setosa</td>\n",
              "    </tr>\n",
              "    <tr>\n",
              "      <th>44</th>\n",
              "      <td>setosa</td>\n",
              "      <td>setosa</td>\n",
              "    </tr>\n",
              "    <tr>\n",
              "      <th>109</th>\n",
              "      <td>virginica</td>\n",
              "      <td>virginica</td>\n",
              "    </tr>\n",
              "    <tr>\n",
              "      <th>138</th>\n",
              "      <td>virginica</td>\n",
              "      <td>virginica</td>\n",
              "    </tr>\n",
              "    <tr>\n",
              "      <th>95</th>\n",
              "      <td>versicolor</td>\n",
              "      <td>versicolor</td>\n",
              "    </tr>\n",
              "    <tr>\n",
              "      <th>1</th>\n",
              "      <td>setosa</td>\n",
              "      <td>setosa</td>\n",
              "    </tr>\n",
              "    <tr>\n",
              "      <th>108</th>\n",
              "      <td>virginica</td>\n",
              "      <td>virginica</td>\n",
              "    </tr>\n",
              "    <tr>\n",
              "      <th>36</th>\n",
              "      <td>setosa</td>\n",
              "      <td>setosa</td>\n",
              "    </tr>\n",
              "    <tr>\n",
              "      <th>54</th>\n",
              "      <td>versicolor</td>\n",
              "      <td>virginica</td>\n",
              "    </tr>\n",
              "    <tr>\n",
              "      <th>57</th>\n",
              "      <td>versicolor</td>\n",
              "      <td>versicolor</td>\n",
              "    </tr>\n",
              "    <tr>\n",
              "      <th>121</th>\n",
              "      <td>virginica</td>\n",
              "      <td>virginica</td>\n",
              "    </tr>\n",
              "    <tr>\n",
              "      <th>73</th>\n",
              "      <td>versicolor</td>\n",
              "      <td>versicolor</td>\n",
              "    </tr>\n",
              "    <tr>\n",
              "      <th>8</th>\n",
              "      <td>setosa</td>\n",
              "      <td>setosa</td>\n",
              "    </tr>\n",
              "    <tr>\n",
              "      <th>52</th>\n",
              "      <td>versicolor</td>\n",
              "      <td>virginica</td>\n",
              "    </tr>\n",
              "    <tr>\n",
              "      <th>65</th>\n",
              "      <td>versicolor</td>\n",
              "      <td>virginica</td>\n",
              "    </tr>\n",
              "    <tr>\n",
              "      <th>98</th>\n",
              "      <td>versicolor</td>\n",
              "      <td>versicolor</td>\n",
              "    </tr>\n",
              "    <tr>\n",
              "      <th>92</th>\n",
              "      <td>versicolor</td>\n",
              "      <td>versicolor</td>\n",
              "    </tr>\n",
              "    <tr>\n",
              "      <th>106</th>\n",
              "      <td>virginica</td>\n",
              "      <td>virginica</td>\n",
              "    </tr>\n",
              "    <tr>\n",
              "      <th>37</th>\n",
              "      <td>setosa</td>\n",
              "      <td>setosa</td>\n",
              "    </tr>\n",
              "    <tr>\n",
              "      <th>18</th>\n",
              "      <td>setosa</td>\n",
              "      <td>setosa</td>\n",
              "    </tr>\n",
              "    <tr>\n",
              "      <th>64</th>\n",
              "      <td>versicolor</td>\n",
              "      <td>virginica</td>\n",
              "    </tr>\n",
              "    <tr>\n",
              "      <th>74</th>\n",
              "      <td>versicolor</td>\n",
              "      <td>virginica</td>\n",
              "    </tr>\n",
              "    <tr>\n",
              "      <th>5</th>\n",
              "      <td>setosa</td>\n",
              "      <td>setosa</td>\n",
              "    </tr>\n",
              "    <tr>\n",
              "      <th>50</th>\n",
              "      <td>versicolor</td>\n",
              "      <td>virginica</td>\n",
              "    </tr>\n",
              "    <tr>\n",
              "      <th>143</th>\n",
              "      <td>virginica</td>\n",
              "      <td>virginica</td>\n",
              "    </tr>\n",
              "    <tr>\n",
              "      <th>70</th>\n",
              "      <td>versicolor</td>\n",
              "      <td>virginica</td>\n",
              "    </tr>\n",
              "    <tr>\n",
              "      <th>7</th>\n",
              "      <td>setosa</td>\n",
              "      <td>setosa</td>\n",
              "    </tr>\n",
              "  </tbody>\n",
              "</table>\n",
              "</div>"
            ],
            "text/plain": [
              "          species           0\n",
              "index                        \n",
              "113     virginica   virginica\n",
              "76     versicolor   virginica\n",
              "16         setosa      setosa\n",
              "103     virginica   virginica\n",
              "93     versicolor  versicolor\n",
              "72     versicolor   virginica\n",
              "79     versicolor  versicolor\n",
              "27         setosa      setosa\n",
              "34         setosa      setosa\n",
              "115     virginica   virginica\n",
              "45         setosa      setosa\n",
              "47         setosa      setosa\n",
              "44         setosa      setosa\n",
              "109     virginica   virginica\n",
              "138     virginica   virginica\n",
              "95     versicolor  versicolor\n",
              "1          setosa      setosa\n",
              "108     virginica   virginica\n",
              "36         setosa      setosa\n",
              "54     versicolor   virginica\n",
              "57     versicolor  versicolor\n",
              "121     virginica   virginica\n",
              "73     versicolor  versicolor\n",
              "8          setosa      setosa\n",
              "52     versicolor   virginica\n",
              "65     versicolor   virginica\n",
              "98     versicolor  versicolor\n",
              "92     versicolor  versicolor\n",
              "106     virginica   virginica\n",
              "37         setosa      setosa\n",
              "18         setosa      setosa\n",
              "64     versicolor   virginica\n",
              "74     versicolor   virginica\n",
              "5          setosa      setosa\n",
              "50     versicolor   virginica\n",
              "143     virginica   virginica\n",
              "70     versicolor   virginica\n",
              "7          setosa      setosa"
            ]
          },
          "metadata": {
            "tags": []
          },
          "execution_count": 17
        }
      ]
    },
    {
      "metadata": {
        "id": "8kKEkzFYmQI-",
        "colab_type": "text"
      },
      "cell_type": "markdown",
      "source": [
        "Similar to Linear Regression, can we do better if we use more than 1 independent variable? Again, we also want to use two non-related independent variables for the best prediction of the dependent variable."
      ]
    },
    {
      "metadata": {
        "id": "Aqhz185WmJRB",
        "colab_type": "code",
        "outputId": "31e36508-3e9d-46f0-ba78-80bfb0de6fc4",
        "colab": {
          "base_uri": "https://localhost:8080/",
          "height": 219
        }
      },
      "cell_type": "code",
      "source": [
        "X_data = iris[['petal_width', 'petal_length']]\n",
        "Y_data = iris[['species']]\n",
        "x_train, x_test, y_train, y_test = train_test_split(X_data, Y_data)\n",
        "log = LogisticRegression()\n",
        "log.fit(x_train, y_train)"
      ],
      "execution_count": 0,
      "outputs": [
        {
          "output_type": "stream",
          "text": [
            "/usr/local/lib/python3.6/dist-packages/sklearn/linear_model/logistic.py:433: FutureWarning: Default solver will be changed to 'lbfgs' in 0.22. Specify a solver to silence this warning.\n",
            "  FutureWarning)\n",
            "/usr/local/lib/python3.6/dist-packages/sklearn/utils/validation.py:761: DataConversionWarning: A column-vector y was passed when a 1d array was expected. Please change the shape of y to (n_samples, ), for example using ravel().\n",
            "  y = column_or_1d(y, warn=True)\n",
            "/usr/local/lib/python3.6/dist-packages/sklearn/linear_model/logistic.py:460: FutureWarning: Default multi_class will be changed to 'auto' in 0.22. Specify the multi_class option to silence this warning.\n",
            "  \"this warning.\", FutureWarning)\n"
          ],
          "name": "stderr"
        },
        {
          "output_type": "execute_result",
          "data": {
            "text/plain": [
              "LogisticRegression(C=1.0, class_weight=None, dual=False, fit_intercept=True,\n",
              "          intercept_scaling=1, max_iter=100, multi_class='warn',\n",
              "          n_jobs=None, penalty='l2', random_state=None, solver='warn',\n",
              "          tol=0.0001, verbose=0, warm_start=False)"
            ]
          },
          "metadata": {
            "tags": []
          },
          "execution_count": 18
        }
      ]
    },
    {
      "metadata": {
        "id": "ggaPN0T5mLsK",
        "colab_type": "code",
        "outputId": "1bd9db13-e1dd-489f-a374-9787b2ab4373",
        "colab": {
          "base_uri": "https://localhost:8080/",
          "height": 35
        }
      },
      "cell_type": "code",
      "source": [
        "accuracy_score(log.predict(x_test), y_test)"
      ],
      "execution_count": 0,
      "outputs": [
        {
          "output_type": "execute_result",
          "data": {
            "text/plain": [
              "0.8947368421052632"
            ]
          },
          "metadata": {
            "tags": []
          },
          "execution_count": 19
        }
      ]
    },
    {
      "metadata": {
        "id": "HgI6jmMJSL4g",
        "colab_type": "code",
        "outputId": "f393dca1-ee27-4ff8-df86-71c1ecd4c34d",
        "colab": {
          "base_uri": "https://localhost:8080/",
          "height": 175
        }
      },
      "cell_type": "code",
      "source": [
        "# Useful method called crosstab that displays the actual vs. predicted value counts\n",
        "pd.crosstab(y_test['species'], log.predict(x_test), rownames=['Actual'], colnames=['Predicted:'])"
      ],
      "execution_count": 0,
      "outputs": [
        {
          "output_type": "execute_result",
          "data": {
            "text/html": [
              "<div>\n",
              "<style scoped>\n",
              "    .dataframe tbody tr th:only-of-type {\n",
              "        vertical-align: middle;\n",
              "    }\n",
              "\n",
              "    .dataframe tbody tr th {\n",
              "        vertical-align: top;\n",
              "    }\n",
              "\n",
              "    .dataframe thead th {\n",
              "        text-align: right;\n",
              "    }\n",
              "</style>\n",
              "<table border=\"1\" class=\"dataframe\">\n",
              "  <thead>\n",
              "    <tr style=\"text-align: right;\">\n",
              "      <th>Predicted:</th>\n",
              "      <th>setosa</th>\n",
              "      <th>versicolor</th>\n",
              "      <th>virginica</th>\n",
              "    </tr>\n",
              "    <tr>\n",
              "      <th>Actual</th>\n",
              "      <th></th>\n",
              "      <th></th>\n",
              "      <th></th>\n",
              "    </tr>\n",
              "  </thead>\n",
              "  <tbody>\n",
              "    <tr>\n",
              "      <th>setosa</th>\n",
              "      <td>14</td>\n",
              "      <td>0</td>\n",
              "      <td>0</td>\n",
              "    </tr>\n",
              "    <tr>\n",
              "      <th>versicolor</th>\n",
              "      <td>0</td>\n",
              "      <td>8</td>\n",
              "      <td>2</td>\n",
              "    </tr>\n",
              "    <tr>\n",
              "      <th>virginica</th>\n",
              "      <td>0</td>\n",
              "      <td>2</td>\n",
              "      <td>12</td>\n",
              "    </tr>\n",
              "  </tbody>\n",
              "</table>\n",
              "</div>"
            ],
            "text/plain": [
              "Predicted:  setosa  versicolor  virginica\n",
              "Actual                                   \n",
              "setosa          14           0          0\n",
              "versicolor       0           8          2\n",
              "virginica        0           2         12"
            ]
          },
          "metadata": {
            "tags": []
          },
          "execution_count": 20
        }
      ]
    },
    {
      "metadata": {
        "id": "0k7leuG-xRW5",
        "colab_type": "text"
      },
      "cell_type": "markdown",
      "source": [
        "Sometimes, adding more features won't increase the performance of the model. This shows the importance of carefully analyzing the data (or guessing and checking) and choosing the features!"
      ]
    },
    {
      "metadata": {
        "id": "nF9CftZNQALF",
        "colab_type": "code",
        "colab": {}
      },
      "cell_type": "code",
      "source": [
        ""
      ],
      "execution_count": 0,
      "outputs": []
    }
  ]
}